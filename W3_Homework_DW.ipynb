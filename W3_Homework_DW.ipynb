{
  "nbformat": 4,
  "nbformat_minor": 0,
  "metadata": {
    "colab": {
      "name": "W3_Homework_DW.ipynb",
      "provenance": [],
      "collapsed_sections": [],
      "toc_visible": true,
      "authorship_tag": "ABX9TyNOmxVP8MgpfXsX0rsjg1Hf",
      "include_colab_link": true
    },
    "kernelspec": {
      "name": "python3",
      "display_name": "Python 3"
    },
    "language_info": {
      "name": "python"
    }
  },
  "cells": [
    {
      "cell_type": "markdown",
      "metadata": {
        "id": "view-in-github",
        "colab_type": "text"
      },
      "source": [
        "<a href=\"https://colab.research.google.com/github/deqiangwang123/3253-Machine-Learning/blob/main/W3_Homework_DW.ipynb\" target=\"_parent\"><img src=\"https://colab.research.google.com/assets/colab-badge.svg\" alt=\"Open In Colab\"/></a>"
      ]
    },
    {
      "cell_type": "markdown",
      "source": [
        "#Q1 Classification\n",
        "Build a classification model for the default of credit card clients dataset. More info here:\n",
        "https://archive.ics.uci.edu/ml/datasets/default+of+credit+card+clients\n",
        "\n",
        "- Explore the data\n",
        "- Make sure you build a full data pipeline\n",
        "- Do you require any data pre-processing? Are all the features useful? (Use only raw features)\n",
        "- set the random seed to 123 (For splitting or any other random algorithm)\n",
        "- Split data into training (80%) and testing (20%)\n",
        "- Follow similar procedure as the one for week 2 (End-to-end Machine Learning Project). Remember apendix B\n",
        "- Study the ROC Curve, decide threshold\n",
        "- Use 2 classifiers.\n",
        "    - Random Forest\n",
        "        - tune only: n_estimators: {3, 4, 6, 7, 10, 20, 50, 100} \n",
        "    - KNN Classfier \n",
        "        - tune only: n_neighbors: {3, 4, 5, 7, 10, 20, 50} \n",
        "    - Which one performs better in the cross validation?\n",
        "    \n",
        "http://scikit-learn.org/stable/modules/generated/sklearn.ensemble.RandomForestClassifier.html\n",
        "\n",
        "http://scikit-learn.org/stable/modules/generated/sklearn.neighbors.KNeighborsClassifier.html\n",
        "\n",
        "- Cross-validation with 4-folds.\n",
        "\n",
        "- Other paramenters -> Use default\n",
        "\n",
        "Notes:\n",
        "  - Make your code modular, the second part of the assignmet you will have to repeat. \n",
        "  - Include documentation for your code "
      ],
      "metadata": {
        "id": "6uj2F8digq-e"
      }
    },
    {
      "cell_type": "markdown",
      "source": [
        "##Global Function"
      ],
      "metadata": {
        "id": "dO5lIRdQguWp"
      }
    },
    {
      "cell_type": "code",
      "execution_count": 1,
      "metadata": {
        "id": "PgKyenA_gk_u"
      },
      "outputs": [],
      "source": [
        "import numpy as np\n",
        "import pandas as pd\n",
        "\n",
        "np.random.seed(123)\n",
        "\n",
        "%matplotlib inline\n",
        "import matplotlib\n",
        "import matplotlib.pyplot as plt\n",
        "plt.rcParams['axes.labelsize'] = 14\n",
        "plt.rcParams['xtick.labelsize'] = 12\n",
        "plt.rcParams['ytick.labelsize'] = 12"
      ]
    },
    {
      "cell_type": "markdown",
      "source": [
        "## 1, Get the data"
      ],
      "metadata": {
        "id": "p15vMXZmhOpp"
      }
    },
    {
      "cell_type": "markdown",
      "source": [
        "### Load data"
      ],
      "metadata": {
        "id": "BBgvGHn_v1dv"
      }
    },
    {
      "cell_type": "code",
      "source": [
        "# Upgrade xlrd version to use read_excel\n",
        "!pip install --upgrade xlrd"
      ],
      "metadata": {
        "colab": {
          "base_uri": "https://localhost:8080/"
        },
        "id": "VmqNv25ahKKd",
        "outputId": "5db9462b-d851-4998-ea14-bd7949d996ea"
      },
      "execution_count": 2,
      "outputs": [
        {
          "output_type": "stream",
          "name": "stdout",
          "text": [
            "Requirement already satisfied: xlrd in /usr/local/lib/python3.7/dist-packages (1.1.0)\n",
            "Collecting xlrd\n",
            "  Downloading xlrd-2.0.1-py2.py3-none-any.whl (96 kB)\n",
            "\u001b[K     |████████████████████████████████| 96 kB 1.7 MB/s \n",
            "\u001b[?25hInstalling collected packages: xlrd\n",
            "  Attempting uninstall: xlrd\n",
            "    Found existing installation: xlrd 1.1.0\n",
            "    Uninstalling xlrd-1.1.0:\n",
            "      Successfully uninstalled xlrd-1.1.0\n",
            "Successfully installed xlrd-2.0.1\n"
          ]
        }
      ]
    },
    {
      "cell_type": "code",
      "source": [
        "df = pd.read_excel(\"https://archive.ics.uci.edu/ml/machine-learning-databases/00350/default%20of%20credit%20card%20clients.xls\", skiprows=1, header=0, index_col=0)\n",
        "df.head()"
      ],
      "metadata": {
        "colab": {
          "base_uri": "https://localhost:8080/",
          "height": 354
        },
        "id": "i08ck7dshTGI",
        "outputId": "1830c69f-7c09-44ff-ad65-7b15f82291fd"
      },
      "execution_count": 3,
      "outputs": [
        {
          "output_type": "execute_result",
          "data": {
            "text/html": [
              "\n",
              "  <div id=\"df-1eee70ad-d501-4dcd-8e7c-1afa80a66587\">\n",
              "    <div class=\"colab-df-container\">\n",
              "      <div>\n",
              "<style scoped>\n",
              "    .dataframe tbody tr th:only-of-type {\n",
              "        vertical-align: middle;\n",
              "    }\n",
              "\n",
              "    .dataframe tbody tr th {\n",
              "        vertical-align: top;\n",
              "    }\n",
              "\n",
              "    .dataframe thead th {\n",
              "        text-align: right;\n",
              "    }\n",
              "</style>\n",
              "<table border=\"1\" class=\"dataframe\">\n",
              "  <thead>\n",
              "    <tr style=\"text-align: right;\">\n",
              "      <th></th>\n",
              "      <th>LIMIT_BAL</th>\n",
              "      <th>SEX</th>\n",
              "      <th>EDUCATION</th>\n",
              "      <th>MARRIAGE</th>\n",
              "      <th>AGE</th>\n",
              "      <th>PAY_0</th>\n",
              "      <th>PAY_2</th>\n",
              "      <th>PAY_3</th>\n",
              "      <th>PAY_4</th>\n",
              "      <th>PAY_5</th>\n",
              "      <th>PAY_6</th>\n",
              "      <th>BILL_AMT1</th>\n",
              "      <th>BILL_AMT2</th>\n",
              "      <th>BILL_AMT3</th>\n",
              "      <th>BILL_AMT4</th>\n",
              "      <th>BILL_AMT5</th>\n",
              "      <th>BILL_AMT6</th>\n",
              "      <th>PAY_AMT1</th>\n",
              "      <th>PAY_AMT2</th>\n",
              "      <th>PAY_AMT3</th>\n",
              "      <th>PAY_AMT4</th>\n",
              "      <th>PAY_AMT5</th>\n",
              "      <th>PAY_AMT6</th>\n",
              "      <th>default payment next month</th>\n",
              "    </tr>\n",
              "    <tr>\n",
              "      <th>ID</th>\n",
              "      <th></th>\n",
              "      <th></th>\n",
              "      <th></th>\n",
              "      <th></th>\n",
              "      <th></th>\n",
              "      <th></th>\n",
              "      <th></th>\n",
              "      <th></th>\n",
              "      <th></th>\n",
              "      <th></th>\n",
              "      <th></th>\n",
              "      <th></th>\n",
              "      <th></th>\n",
              "      <th></th>\n",
              "      <th></th>\n",
              "      <th></th>\n",
              "      <th></th>\n",
              "      <th></th>\n",
              "      <th></th>\n",
              "      <th></th>\n",
              "      <th></th>\n",
              "      <th></th>\n",
              "      <th></th>\n",
              "      <th></th>\n",
              "    </tr>\n",
              "  </thead>\n",
              "  <tbody>\n",
              "    <tr>\n",
              "      <th>1</th>\n",
              "      <td>20000</td>\n",
              "      <td>2</td>\n",
              "      <td>2</td>\n",
              "      <td>1</td>\n",
              "      <td>24</td>\n",
              "      <td>2</td>\n",
              "      <td>2</td>\n",
              "      <td>-1</td>\n",
              "      <td>-1</td>\n",
              "      <td>-2</td>\n",
              "      <td>-2</td>\n",
              "      <td>3913</td>\n",
              "      <td>3102</td>\n",
              "      <td>689</td>\n",
              "      <td>0</td>\n",
              "      <td>0</td>\n",
              "      <td>0</td>\n",
              "      <td>0</td>\n",
              "      <td>689</td>\n",
              "      <td>0</td>\n",
              "      <td>0</td>\n",
              "      <td>0</td>\n",
              "      <td>0</td>\n",
              "      <td>1</td>\n",
              "    </tr>\n",
              "    <tr>\n",
              "      <th>2</th>\n",
              "      <td>120000</td>\n",
              "      <td>2</td>\n",
              "      <td>2</td>\n",
              "      <td>2</td>\n",
              "      <td>26</td>\n",
              "      <td>-1</td>\n",
              "      <td>2</td>\n",
              "      <td>0</td>\n",
              "      <td>0</td>\n",
              "      <td>0</td>\n",
              "      <td>2</td>\n",
              "      <td>2682</td>\n",
              "      <td>1725</td>\n",
              "      <td>2682</td>\n",
              "      <td>3272</td>\n",
              "      <td>3455</td>\n",
              "      <td>3261</td>\n",
              "      <td>0</td>\n",
              "      <td>1000</td>\n",
              "      <td>1000</td>\n",
              "      <td>1000</td>\n",
              "      <td>0</td>\n",
              "      <td>2000</td>\n",
              "      <td>1</td>\n",
              "    </tr>\n",
              "    <tr>\n",
              "      <th>3</th>\n",
              "      <td>90000</td>\n",
              "      <td>2</td>\n",
              "      <td>2</td>\n",
              "      <td>2</td>\n",
              "      <td>34</td>\n",
              "      <td>0</td>\n",
              "      <td>0</td>\n",
              "      <td>0</td>\n",
              "      <td>0</td>\n",
              "      <td>0</td>\n",
              "      <td>0</td>\n",
              "      <td>29239</td>\n",
              "      <td>14027</td>\n",
              "      <td>13559</td>\n",
              "      <td>14331</td>\n",
              "      <td>14948</td>\n",
              "      <td>15549</td>\n",
              "      <td>1518</td>\n",
              "      <td>1500</td>\n",
              "      <td>1000</td>\n",
              "      <td>1000</td>\n",
              "      <td>1000</td>\n",
              "      <td>5000</td>\n",
              "      <td>0</td>\n",
              "    </tr>\n",
              "    <tr>\n",
              "      <th>4</th>\n",
              "      <td>50000</td>\n",
              "      <td>2</td>\n",
              "      <td>2</td>\n",
              "      <td>1</td>\n",
              "      <td>37</td>\n",
              "      <td>0</td>\n",
              "      <td>0</td>\n",
              "      <td>0</td>\n",
              "      <td>0</td>\n",
              "      <td>0</td>\n",
              "      <td>0</td>\n",
              "      <td>46990</td>\n",
              "      <td>48233</td>\n",
              "      <td>49291</td>\n",
              "      <td>28314</td>\n",
              "      <td>28959</td>\n",
              "      <td>29547</td>\n",
              "      <td>2000</td>\n",
              "      <td>2019</td>\n",
              "      <td>1200</td>\n",
              "      <td>1100</td>\n",
              "      <td>1069</td>\n",
              "      <td>1000</td>\n",
              "      <td>0</td>\n",
              "    </tr>\n",
              "    <tr>\n",
              "      <th>5</th>\n",
              "      <td>50000</td>\n",
              "      <td>1</td>\n",
              "      <td>2</td>\n",
              "      <td>1</td>\n",
              "      <td>57</td>\n",
              "      <td>-1</td>\n",
              "      <td>0</td>\n",
              "      <td>-1</td>\n",
              "      <td>0</td>\n",
              "      <td>0</td>\n",
              "      <td>0</td>\n",
              "      <td>8617</td>\n",
              "      <td>5670</td>\n",
              "      <td>35835</td>\n",
              "      <td>20940</td>\n",
              "      <td>19146</td>\n",
              "      <td>19131</td>\n",
              "      <td>2000</td>\n",
              "      <td>36681</td>\n",
              "      <td>10000</td>\n",
              "      <td>9000</td>\n",
              "      <td>689</td>\n",
              "      <td>679</td>\n",
              "      <td>0</td>\n",
              "    </tr>\n",
              "  </tbody>\n",
              "</table>\n",
              "</div>\n",
              "      <button class=\"colab-df-convert\" onclick=\"convertToInteractive('df-1eee70ad-d501-4dcd-8e7c-1afa80a66587')\"\n",
              "              title=\"Convert this dataframe to an interactive table.\"\n",
              "              style=\"display:none;\">\n",
              "        \n",
              "  <svg xmlns=\"http://www.w3.org/2000/svg\" height=\"24px\"viewBox=\"0 0 24 24\"\n",
              "       width=\"24px\">\n",
              "    <path d=\"M0 0h24v24H0V0z\" fill=\"none\"/>\n",
              "    <path d=\"M18.56 5.44l.94 2.06.94-2.06 2.06-.94-2.06-.94-.94-2.06-.94 2.06-2.06.94zm-11 1L8.5 8.5l.94-2.06 2.06-.94-2.06-.94L8.5 2.5l-.94 2.06-2.06.94zm10 10l.94 2.06.94-2.06 2.06-.94-2.06-.94-.94-2.06-.94 2.06-2.06.94z\"/><path d=\"M17.41 7.96l-1.37-1.37c-.4-.4-.92-.59-1.43-.59-.52 0-1.04.2-1.43.59L10.3 9.45l-7.72 7.72c-.78.78-.78 2.05 0 2.83L4 21.41c.39.39.9.59 1.41.59.51 0 1.02-.2 1.41-.59l7.78-7.78 2.81-2.81c.8-.78.8-2.07 0-2.86zM5.41 20L4 18.59l7.72-7.72 1.47 1.35L5.41 20z\"/>\n",
              "  </svg>\n",
              "      </button>\n",
              "      \n",
              "  <style>\n",
              "    .colab-df-container {\n",
              "      display:flex;\n",
              "      flex-wrap:wrap;\n",
              "      gap: 12px;\n",
              "    }\n",
              "\n",
              "    .colab-df-convert {\n",
              "      background-color: #E8F0FE;\n",
              "      border: none;\n",
              "      border-radius: 50%;\n",
              "      cursor: pointer;\n",
              "      display: none;\n",
              "      fill: #1967D2;\n",
              "      height: 32px;\n",
              "      padding: 0 0 0 0;\n",
              "      width: 32px;\n",
              "    }\n",
              "\n",
              "    .colab-df-convert:hover {\n",
              "      background-color: #E2EBFA;\n",
              "      box-shadow: 0px 1px 2px rgba(60, 64, 67, 0.3), 0px 1px 3px 1px rgba(60, 64, 67, 0.15);\n",
              "      fill: #174EA6;\n",
              "    }\n",
              "\n",
              "    [theme=dark] .colab-df-convert {\n",
              "      background-color: #3B4455;\n",
              "      fill: #D2E3FC;\n",
              "    }\n",
              "\n",
              "    [theme=dark] .colab-df-convert:hover {\n",
              "      background-color: #434B5C;\n",
              "      box-shadow: 0px 1px 3px 1px rgba(0, 0, 0, 0.15);\n",
              "      filter: drop-shadow(0px 1px 2px rgba(0, 0, 0, 0.3));\n",
              "      fill: #FFFFFF;\n",
              "    }\n",
              "  </style>\n",
              "\n",
              "      <script>\n",
              "        const buttonEl =\n",
              "          document.querySelector('#df-1eee70ad-d501-4dcd-8e7c-1afa80a66587 button.colab-df-convert');\n",
              "        buttonEl.style.display =\n",
              "          google.colab.kernel.accessAllowed ? 'block' : 'none';\n",
              "\n",
              "        async function convertToInteractive(key) {\n",
              "          const element = document.querySelector('#df-1eee70ad-d501-4dcd-8e7c-1afa80a66587');\n",
              "          const dataTable =\n",
              "            await google.colab.kernel.invokeFunction('convertToInteractive',\n",
              "                                                     [key], {});\n",
              "          if (!dataTable) return;\n",
              "\n",
              "          const docLinkHtml = 'Like what you see? Visit the ' +\n",
              "            '<a target=\"_blank\" href=https://colab.research.google.com/notebooks/data_table.ipynb>data table notebook</a>'\n",
              "            + ' to learn more about interactive tables.';\n",
              "          element.innerHTML = '';\n",
              "          dataTable['output_type'] = 'display_data';\n",
              "          await google.colab.output.renderOutput(dataTable, element);\n",
              "          const docLink = document.createElement('div');\n",
              "          docLink.innerHTML = docLinkHtml;\n",
              "          element.appendChild(docLink);\n",
              "        }\n",
              "      </script>\n",
              "    </div>\n",
              "  </div>\n",
              "  "
            ],
            "text/plain": [
              "    LIMIT_BAL  SEX  EDUCATION  ...  PAY_AMT5  PAY_AMT6  default payment next month\n",
              "ID                             ...                                                \n",
              "1       20000    2          2  ...         0         0                           1\n",
              "2      120000    2          2  ...         0      2000                           1\n",
              "3       90000    2          2  ...      1000      5000                           0\n",
              "4       50000    2          2  ...      1069      1000                           0\n",
              "5       50000    1          2  ...       689       679                           0\n",
              "\n",
              "[5 rows x 24 columns]"
            ]
          },
          "metadata": {},
          "execution_count": 3
        }
      ]
    },
    {
      "cell_type": "markdown",
      "source": [
        "## 2, Data Exploration"
      ],
      "metadata": {
        "id": "IlA6DKY1iiKa"
      }
    },
    {
      "cell_type": "markdown",
      "source": [
        "### Check missing data"
      ],
      "metadata": {
        "id": "GqGZt3_7i-Eo"
      }
    },
    {
      "cell_type": "code",
      "source": [
        "df.info()"
      ],
      "metadata": {
        "colab": {
          "base_uri": "https://localhost:8080/"
        },
        "id": "Q5uKphYwiMtO",
        "outputId": "a9e87b66-4cb8-4655-e4c1-2609a3340885"
      },
      "execution_count": 4,
      "outputs": [
        {
          "output_type": "stream",
          "name": "stdout",
          "text": [
            "<class 'pandas.core.frame.DataFrame'>\n",
            "Int64Index: 30000 entries, 1 to 30000\n",
            "Data columns (total 24 columns):\n",
            " #   Column                      Non-Null Count  Dtype\n",
            "---  ------                      --------------  -----\n",
            " 0   LIMIT_BAL                   30000 non-null  int64\n",
            " 1   SEX                         30000 non-null  int64\n",
            " 2   EDUCATION                   30000 non-null  int64\n",
            " 3   MARRIAGE                    30000 non-null  int64\n",
            " 4   AGE                         30000 non-null  int64\n",
            " 5   PAY_0                       30000 non-null  int64\n",
            " 6   PAY_2                       30000 non-null  int64\n",
            " 7   PAY_3                       30000 non-null  int64\n",
            " 8   PAY_4                       30000 non-null  int64\n",
            " 9   PAY_5                       30000 non-null  int64\n",
            " 10  PAY_6                       30000 non-null  int64\n",
            " 11  BILL_AMT1                   30000 non-null  int64\n",
            " 12  BILL_AMT2                   30000 non-null  int64\n",
            " 13  BILL_AMT3                   30000 non-null  int64\n",
            " 14  BILL_AMT4                   30000 non-null  int64\n",
            " 15  BILL_AMT5                   30000 non-null  int64\n",
            " 16  BILL_AMT6                   30000 non-null  int64\n",
            " 17  PAY_AMT1                    30000 non-null  int64\n",
            " 18  PAY_AMT2                    30000 non-null  int64\n",
            " 19  PAY_AMT3                    30000 non-null  int64\n",
            " 20  PAY_AMT4                    30000 non-null  int64\n",
            " 21  PAY_AMT5                    30000 non-null  int64\n",
            " 22  PAY_AMT6                    30000 non-null  int64\n",
            " 23  default payment next month  30000 non-null  int64\n",
            "dtypes: int64(24)\n",
            "memory usage: 5.7 MB\n"
          ]
        }
      ]
    },
    {
      "cell_type": "markdown",
      "source": [
        "The dataset has 23 attributes, where \"default payment next month\" will be the target. There are 30000 instances and no missing attributes. If any missing data, one option is to use median value to fill the blanks."
      ],
      "metadata": {
        "id": "kgqjNWREjFuv"
      }
    },
    {
      "cell_type": "markdown",
      "source": [
        "### Study the attributes"
      ],
      "metadata": {
        "id": "5Aagryf9kb08"
      }
    },
    {
      "cell_type": "code",
      "source": [
        "TARGET = \"default payment next month\"\n",
        "columns_predictors = [col for col in df.columns if col not in [TARGET]]\n",
        "columns_categorical = ['SEX', 'EDUCATION', 'MARRIAGE', 'PAY_0', 'PAY_2', 'PAY_3', 'PAY_4', 'PAY_5', 'PAY_6']\n",
        "columns_numerical = [col for col in columns_predictors if col not in columns_categorical]\n",
        "\n",
        "# add f in the front to print variable with {}\n",
        "print(f\"TARGET: {TARGET}\")\n",
        "print(f\"columns_predictors: {columns_predictors}\")\n",
        "print(f\"columns_categorical: {columns_categorical}\")\n",
        "print(f\"columns_numerical: {columns_numerical}\")"
      ],
      "metadata": {
        "colab": {
          "base_uri": "https://localhost:8080/"
        },
        "id": "--uRE3y7j4p8",
        "outputId": "bf741655-9ac1-4f9b-f655-b283fc644b51"
      },
      "execution_count": 5,
      "outputs": [
        {
          "output_type": "stream",
          "name": "stdout",
          "text": [
            "TARGET: default payment next month\n",
            "columns_predictors: ['LIMIT_BAL', 'SEX', 'EDUCATION', 'MARRIAGE', 'AGE', 'PAY_0', 'PAY_2', 'PAY_3', 'PAY_4', 'PAY_5', 'PAY_6', 'BILL_AMT1', 'BILL_AMT2', 'BILL_AMT3', 'BILL_AMT4', 'BILL_AMT5', 'BILL_AMT6', 'PAY_AMT1', 'PAY_AMT2', 'PAY_AMT3', 'PAY_AMT4', 'PAY_AMT5', 'PAY_AMT6']\n",
            "columns_categorical: ['SEX', 'EDUCATION', 'MARRIAGE', 'PAY_0', 'PAY_2', 'PAY_3', 'PAY_4', 'PAY_5', 'PAY_6']\n",
            "columns_numerical: ['LIMIT_BAL', 'AGE', 'BILL_AMT1', 'BILL_AMT2', 'BILL_AMT3', 'BILL_AMT4', 'BILL_AMT5', 'BILL_AMT6', 'PAY_AMT1', 'PAY_AMT2', 'PAY_AMT3', 'PAY_AMT4', 'PAY_AMT5', 'PAY_AMT6']\n"
          ]
        }
      ]
    },
    {
      "cell_type": "markdown",
      "source": [
        "\"default payment next month\" will be the target attribute. From the description of the dataset, the categorical attributes are selected out then the left are the numerical attributes."
      ],
      "metadata": {
        "id": "JkTKvrtYlB8U"
      }
    },
    {
      "cell_type": "markdown",
      "source": [
        "### Choose X and y"
      ],
      "metadata": {
        "id": "VGJtwKL26xRi"
      }
    },
    {
      "cell_type": "code",
      "source": [
        "X = df[columns_predictors]\n",
        "y = df[TARGET]"
      ],
      "metadata": {
        "id": "p4a5Mvf66prM"
      },
      "execution_count": 12,
      "outputs": []
    },
    {
      "cell_type": "code",
      "source": [
        "X.head()"
      ],
      "metadata": {
        "colab": {
          "base_uri": "https://localhost:8080/",
          "height": 302
        },
        "id": "E-SQYEI162Rh",
        "outputId": "a69cae08-d173-4bac-e34d-7895d46053be"
      },
      "execution_count": 13,
      "outputs": [
        {
          "output_type": "execute_result",
          "data": {
            "text/html": [
              "\n",
              "  <div id=\"df-3d5b2c52-1884-4501-80ac-0a23ba4bca7d\">\n",
              "    <div class=\"colab-df-container\">\n",
              "      <div>\n",
              "<style scoped>\n",
              "    .dataframe tbody tr th:only-of-type {\n",
              "        vertical-align: middle;\n",
              "    }\n",
              "\n",
              "    .dataframe tbody tr th {\n",
              "        vertical-align: top;\n",
              "    }\n",
              "\n",
              "    .dataframe thead th {\n",
              "        text-align: right;\n",
              "    }\n",
              "</style>\n",
              "<table border=\"1\" class=\"dataframe\">\n",
              "  <thead>\n",
              "    <tr style=\"text-align: right;\">\n",
              "      <th></th>\n",
              "      <th>LIMIT_BAL</th>\n",
              "      <th>SEX</th>\n",
              "      <th>EDUCATION</th>\n",
              "      <th>MARRIAGE</th>\n",
              "      <th>AGE</th>\n",
              "      <th>PAY_0</th>\n",
              "      <th>PAY_2</th>\n",
              "      <th>PAY_3</th>\n",
              "      <th>PAY_4</th>\n",
              "      <th>PAY_5</th>\n",
              "      <th>PAY_6</th>\n",
              "      <th>BILL_AMT1</th>\n",
              "      <th>BILL_AMT2</th>\n",
              "      <th>BILL_AMT3</th>\n",
              "      <th>BILL_AMT4</th>\n",
              "      <th>BILL_AMT5</th>\n",
              "      <th>BILL_AMT6</th>\n",
              "      <th>PAY_AMT1</th>\n",
              "      <th>PAY_AMT2</th>\n",
              "      <th>PAY_AMT3</th>\n",
              "      <th>PAY_AMT4</th>\n",
              "      <th>PAY_AMT5</th>\n",
              "      <th>PAY_AMT6</th>\n",
              "    </tr>\n",
              "    <tr>\n",
              "      <th>ID</th>\n",
              "      <th></th>\n",
              "      <th></th>\n",
              "      <th></th>\n",
              "      <th></th>\n",
              "      <th></th>\n",
              "      <th></th>\n",
              "      <th></th>\n",
              "      <th></th>\n",
              "      <th></th>\n",
              "      <th></th>\n",
              "      <th></th>\n",
              "      <th></th>\n",
              "      <th></th>\n",
              "      <th></th>\n",
              "      <th></th>\n",
              "      <th></th>\n",
              "      <th></th>\n",
              "      <th></th>\n",
              "      <th></th>\n",
              "      <th></th>\n",
              "      <th></th>\n",
              "      <th></th>\n",
              "      <th></th>\n",
              "    </tr>\n",
              "  </thead>\n",
              "  <tbody>\n",
              "    <tr>\n",
              "      <th>1</th>\n",
              "      <td>20000</td>\n",
              "      <td>2</td>\n",
              "      <td>2</td>\n",
              "      <td>1</td>\n",
              "      <td>24</td>\n",
              "      <td>2</td>\n",
              "      <td>2</td>\n",
              "      <td>-1</td>\n",
              "      <td>-1</td>\n",
              "      <td>-2</td>\n",
              "      <td>-2</td>\n",
              "      <td>3913</td>\n",
              "      <td>3102</td>\n",
              "      <td>689</td>\n",
              "      <td>0</td>\n",
              "      <td>0</td>\n",
              "      <td>0</td>\n",
              "      <td>0</td>\n",
              "      <td>689</td>\n",
              "      <td>0</td>\n",
              "      <td>0</td>\n",
              "      <td>0</td>\n",
              "      <td>0</td>\n",
              "    </tr>\n",
              "    <tr>\n",
              "      <th>2</th>\n",
              "      <td>120000</td>\n",
              "      <td>2</td>\n",
              "      <td>2</td>\n",
              "      <td>2</td>\n",
              "      <td>26</td>\n",
              "      <td>-1</td>\n",
              "      <td>2</td>\n",
              "      <td>0</td>\n",
              "      <td>0</td>\n",
              "      <td>0</td>\n",
              "      <td>2</td>\n",
              "      <td>2682</td>\n",
              "      <td>1725</td>\n",
              "      <td>2682</td>\n",
              "      <td>3272</td>\n",
              "      <td>3455</td>\n",
              "      <td>3261</td>\n",
              "      <td>0</td>\n",
              "      <td>1000</td>\n",
              "      <td>1000</td>\n",
              "      <td>1000</td>\n",
              "      <td>0</td>\n",
              "      <td>2000</td>\n",
              "    </tr>\n",
              "    <tr>\n",
              "      <th>3</th>\n",
              "      <td>90000</td>\n",
              "      <td>2</td>\n",
              "      <td>2</td>\n",
              "      <td>2</td>\n",
              "      <td>34</td>\n",
              "      <td>0</td>\n",
              "      <td>0</td>\n",
              "      <td>0</td>\n",
              "      <td>0</td>\n",
              "      <td>0</td>\n",
              "      <td>0</td>\n",
              "      <td>29239</td>\n",
              "      <td>14027</td>\n",
              "      <td>13559</td>\n",
              "      <td>14331</td>\n",
              "      <td>14948</td>\n",
              "      <td>15549</td>\n",
              "      <td>1518</td>\n",
              "      <td>1500</td>\n",
              "      <td>1000</td>\n",
              "      <td>1000</td>\n",
              "      <td>1000</td>\n",
              "      <td>5000</td>\n",
              "    </tr>\n",
              "    <tr>\n",
              "      <th>4</th>\n",
              "      <td>50000</td>\n",
              "      <td>2</td>\n",
              "      <td>2</td>\n",
              "      <td>1</td>\n",
              "      <td>37</td>\n",
              "      <td>0</td>\n",
              "      <td>0</td>\n",
              "      <td>0</td>\n",
              "      <td>0</td>\n",
              "      <td>0</td>\n",
              "      <td>0</td>\n",
              "      <td>46990</td>\n",
              "      <td>48233</td>\n",
              "      <td>49291</td>\n",
              "      <td>28314</td>\n",
              "      <td>28959</td>\n",
              "      <td>29547</td>\n",
              "      <td>2000</td>\n",
              "      <td>2019</td>\n",
              "      <td>1200</td>\n",
              "      <td>1100</td>\n",
              "      <td>1069</td>\n",
              "      <td>1000</td>\n",
              "    </tr>\n",
              "    <tr>\n",
              "      <th>5</th>\n",
              "      <td>50000</td>\n",
              "      <td>1</td>\n",
              "      <td>2</td>\n",
              "      <td>1</td>\n",
              "      <td>57</td>\n",
              "      <td>-1</td>\n",
              "      <td>0</td>\n",
              "      <td>-1</td>\n",
              "      <td>0</td>\n",
              "      <td>0</td>\n",
              "      <td>0</td>\n",
              "      <td>8617</td>\n",
              "      <td>5670</td>\n",
              "      <td>35835</td>\n",
              "      <td>20940</td>\n",
              "      <td>19146</td>\n",
              "      <td>19131</td>\n",
              "      <td>2000</td>\n",
              "      <td>36681</td>\n",
              "      <td>10000</td>\n",
              "      <td>9000</td>\n",
              "      <td>689</td>\n",
              "      <td>679</td>\n",
              "    </tr>\n",
              "  </tbody>\n",
              "</table>\n",
              "</div>\n",
              "      <button class=\"colab-df-convert\" onclick=\"convertToInteractive('df-3d5b2c52-1884-4501-80ac-0a23ba4bca7d')\"\n",
              "              title=\"Convert this dataframe to an interactive table.\"\n",
              "              style=\"display:none;\">\n",
              "        \n",
              "  <svg xmlns=\"http://www.w3.org/2000/svg\" height=\"24px\"viewBox=\"0 0 24 24\"\n",
              "       width=\"24px\">\n",
              "    <path d=\"M0 0h24v24H0V0z\" fill=\"none\"/>\n",
              "    <path d=\"M18.56 5.44l.94 2.06.94-2.06 2.06-.94-2.06-.94-.94-2.06-.94 2.06-2.06.94zm-11 1L8.5 8.5l.94-2.06 2.06-.94-2.06-.94L8.5 2.5l-.94 2.06-2.06.94zm10 10l.94 2.06.94-2.06 2.06-.94-2.06-.94-.94-2.06-.94 2.06-2.06.94z\"/><path d=\"M17.41 7.96l-1.37-1.37c-.4-.4-.92-.59-1.43-.59-.52 0-1.04.2-1.43.59L10.3 9.45l-7.72 7.72c-.78.78-.78 2.05 0 2.83L4 21.41c.39.39.9.59 1.41.59.51 0 1.02-.2 1.41-.59l7.78-7.78 2.81-2.81c.8-.78.8-2.07 0-2.86zM5.41 20L4 18.59l7.72-7.72 1.47 1.35L5.41 20z\"/>\n",
              "  </svg>\n",
              "      </button>\n",
              "      \n",
              "  <style>\n",
              "    .colab-df-container {\n",
              "      display:flex;\n",
              "      flex-wrap:wrap;\n",
              "      gap: 12px;\n",
              "    }\n",
              "\n",
              "    .colab-df-convert {\n",
              "      background-color: #E8F0FE;\n",
              "      border: none;\n",
              "      border-radius: 50%;\n",
              "      cursor: pointer;\n",
              "      display: none;\n",
              "      fill: #1967D2;\n",
              "      height: 32px;\n",
              "      padding: 0 0 0 0;\n",
              "      width: 32px;\n",
              "    }\n",
              "\n",
              "    .colab-df-convert:hover {\n",
              "      background-color: #E2EBFA;\n",
              "      box-shadow: 0px 1px 2px rgba(60, 64, 67, 0.3), 0px 1px 3px 1px rgba(60, 64, 67, 0.15);\n",
              "      fill: #174EA6;\n",
              "    }\n",
              "\n",
              "    [theme=dark] .colab-df-convert {\n",
              "      background-color: #3B4455;\n",
              "      fill: #D2E3FC;\n",
              "    }\n",
              "\n",
              "    [theme=dark] .colab-df-convert:hover {\n",
              "      background-color: #434B5C;\n",
              "      box-shadow: 0px 1px 3px 1px rgba(0, 0, 0, 0.15);\n",
              "      filter: drop-shadow(0px 1px 2px rgba(0, 0, 0, 0.3));\n",
              "      fill: #FFFFFF;\n",
              "    }\n",
              "  </style>\n",
              "\n",
              "      <script>\n",
              "        const buttonEl =\n",
              "          document.querySelector('#df-3d5b2c52-1884-4501-80ac-0a23ba4bca7d button.colab-df-convert');\n",
              "        buttonEl.style.display =\n",
              "          google.colab.kernel.accessAllowed ? 'block' : 'none';\n",
              "\n",
              "        async function convertToInteractive(key) {\n",
              "          const element = document.querySelector('#df-3d5b2c52-1884-4501-80ac-0a23ba4bca7d');\n",
              "          const dataTable =\n",
              "            await google.colab.kernel.invokeFunction('convertToInteractive',\n",
              "                                                     [key], {});\n",
              "          if (!dataTable) return;\n",
              "\n",
              "          const docLinkHtml = 'Like what you see? Visit the ' +\n",
              "            '<a target=\"_blank\" href=https://colab.research.google.com/notebooks/data_table.ipynb>data table notebook</a>'\n",
              "            + ' to learn more about interactive tables.';\n",
              "          element.innerHTML = '';\n",
              "          dataTable['output_type'] = 'display_data';\n",
              "          await google.colab.output.renderOutput(dataTable, element);\n",
              "          const docLink = document.createElement('div');\n",
              "          docLink.innerHTML = docLinkHtml;\n",
              "          element.appendChild(docLink);\n",
              "        }\n",
              "      </script>\n",
              "    </div>\n",
              "  </div>\n",
              "  "
            ],
            "text/plain": [
              "    LIMIT_BAL  SEX  EDUCATION  MARRIAGE  ...  PAY_AMT3  PAY_AMT4  PAY_AMT5  PAY_AMT6\n",
              "ID                                       ...                                        \n",
              "1       20000    2          2         1  ...         0         0         0         0\n",
              "2      120000    2          2         2  ...      1000      1000         0      2000\n",
              "3       90000    2          2         2  ...      1000      1000      1000      5000\n",
              "4       50000    2          2         1  ...      1200      1100      1069      1000\n",
              "5       50000    1          2         1  ...     10000      9000       689       679\n",
              "\n",
              "[5 rows x 23 columns]"
            ]
          },
          "metadata": {},
          "execution_count": 13
        }
      ]
    },
    {
      "cell_type": "code",
      "source": [
        "y.value_counts()"
      ],
      "metadata": {
        "colab": {
          "base_uri": "https://localhost:8080/"
        },
        "id": "MX3p8mlc65UX",
        "outputId": "73f82c3a-ca09-4c79-ce48-0f78727f29d0"
      },
      "execution_count": 15,
      "outputs": [
        {
          "output_type": "execute_result",
          "data": {
            "text/plain": [
              "0    23364\n",
              "1     6636\n",
              "Name: default payment next month, dtype: int64"
            ]
          },
          "metadata": {},
          "execution_count": 15
        }
      ]
    },
    {
      "cell_type": "markdown",
      "source": [
        "### Check the balance of the dataset"
      ],
      "metadata": {
        "id": "kRGX0RqMl7vC"
      }
    },
    {
      "cell_type": "code",
      "source": [
        "def check_data_balance(series, style=\"seaborn-pastel\"):\n",
        "  with plt.style.context(style):\n",
        "    unique = series.value_counts()\n",
        "    display(unique)\n",
        "    plt.pie(unique, explode=[0.05]*len(unique), labels=unique.index, autopct='%1.1f%%')"
      ],
      "metadata": {
        "id": "adZhsuQUk88p"
      },
      "execution_count": 6,
      "outputs": []
    },
    {
      "cell_type": "code",
      "source": [
        "check_data_balance(df[\"default payment next month\"])"
      ],
      "metadata": {
        "colab": {
          "base_uri": "https://localhost:8080/",
          "height": 300
        },
        "id": "9WkCW1aamDun",
        "outputId": "d9312ecf-6347-4213-e8b0-5a8d3e90d0f6"
      },
      "execution_count": 7,
      "outputs": [
        {
          "output_type": "display_data",
          "data": {
            "text/plain": [
              "0    23364\n",
              "1     6636\n",
              "Name: default payment next month, dtype: int64"
            ]
          },
          "metadata": {}
        },
        {
          "output_type": "display_data",
          "data": {
            "image/png": "[encoded data removed]",
            "text/plain": [
              "<Figure size 432x288 with 1 Axes>"
            ]
          },
          "metadata": {}
        }
      ]
    },
    {
      "cell_type": "markdown",
      "source": [
        "From the pie chart, the study case has imbalanced data."
      ],
      "metadata": {
        "id": "4tJIpC1bmHdY"
      }
    },
    {
      "cell_type": "markdown",
      "source": [
        "### Split dataset to train and test"
      ],
      "metadata": {
        "id": "C_jseo516SUl"
      }
    },
    {
      "cell_type": "code",
      "source": [
        "from sklearn.model_selection import train_test_split\n",
        "X_train, X_test, y_train, y_test = train_test_split(X, y, test_size=0.2, random_state=123, stratify=y)\n",
        "# stratified based on y, so train_test_split can do stratified sampling \n",
        "print(f\"X_train.shape: {X_train.shape}\")\n",
        "print(f\"X_test.shape: {X_test.shape}\")\n",
        "print(f\"y_train.shape: {y_train.shape}\")\n",
        "print(f\"y_test.shape: {y_test.shape}\")"
      ],
      "metadata": {
        "colab": {
          "base_uri": "https://localhost:8080/"
        },
        "id": "ywiOR5PJ6YN1",
        "outputId": "da55deb8-a0d5-482d-e5fb-3476b84ed831"
      },
      "execution_count": 29,
      "outputs": [
        {
          "output_type": "stream",
          "name": "stdout",
          "text": [
            "X_train.shape: (24000, 23)\n",
            "X_test.shape: (6000, 23)\n",
            "y_train.shape: (24000,)\n",
            "y_test.shape: (6000,)\n"
          ]
        }
      ]
    },
    {
      "cell_type": "code",
      "source": [
        "check_data_balance(y_train)"
      ],
      "metadata": {
        "colab": {
          "base_uri": "https://localhost:8080/",
          "height": 300
        },
        "id": "S2mth6MzWeUR",
        "outputId": "c31df548-7bbc-4ab3-835a-8fce160c411f"
      },
      "execution_count": 34,
      "outputs": [
        {
          "output_type": "display_data",
          "data": {
            "text/plain": [
              "0    18691\n",
              "1     5309\n",
              "Name: default payment next month, dtype: int64"
            ]
          },
          "metadata": {}
        },
        {
          "output_type": "display_data",
          "data": {
            "image/png": "[encoded data removed]",
            "text/plain": [
              "<Figure size 432x288 with 1 Axes>"
            ]
          },
          "metadata": {}
        }
      ]
    },
    {
      "cell_type": "code",
      "source": [
        "check_data_balance(y_test)"
      ],
      "metadata": {
        "colab": {
          "base_uri": "https://localhost:8080/",
          "height": 300
        },
        "id": "CXmI8wvCWpAY",
        "outputId": "0197fae0-6612-4587-b182-fad5efbf0a29"
      },
      "execution_count": 35,
      "outputs": [
        {
          "output_type": "display_data",
          "data": {
            "text/plain": [
              "0    4673\n",
              "1    1327\n",
              "Name: default payment next month, dtype: int64"
            ]
          },
          "metadata": {}
        },
        {
          "output_type": "display_data",
          "data": {
            "image/png": "[encoded data removed]",
            "text/plain": [
              "<Figure size 432x288 with 1 Axes>"
            ]
          },
          "metadata": {}
        }
      ]
    },
    {
      "cell_type": "markdown",
      "source": [
        "### Visualized the data by Histogram"
      ],
      "metadata": {
        "id": "J4pRBNY1mmuB"
      }
    },
    {
      "cell_type": "code",
      "source": [
        "_=df.hist(figsize=(20,15))"
      ],
      "metadata": {
        "colab": {
          "base_uri": "https://localhost:8080/",
          "height": 882
        },
        "id": "Cx3tcHYwmF3j",
        "outputId": "6c609da5-1c88-465e-8e83-df420872df3a"
      },
      "execution_count": 8,
      "outputs": [
        {
          "output_type": "display_data",
          "data": {
            "image/png": "[encoded data removed]",
            "text/plain": [
              "<Figure size 1440x1080 with 25 Axes>"
            ]
          },
          "metadata": {
            "needs_background": "light"
          }
        }
      ]
    },
    {
      "cell_type": "markdown",
      "source": [
        "### Correlations between attributes"
      ],
      "metadata": {
        "id": "CBbEiYrCm9K2"
      }
    },
    {
      "cell_type": "code",
      "source": [
        "corr_matrix = df.corr()\n",
        "corr_matrix[TARGET].sort_values(ascending=False)"
      ],
      "metadata": {
        "colab": {
          "base_uri": "https://localhost:8080/"
        },
        "id": "vK-N006MmxPA",
        "outputId": "4dbc2566-8b00-4cc7-e8d0-5b6c9eea8d1e"
      },
      "execution_count": 9,
      "outputs": [
        {
          "output_type": "execute_result",
          "data": {
            "text/plain": [
              "default payment next month    1.000000\n",
              "PAY_0                         0.324794\n",
              "PAY_2                         0.263551\n",
              "PAY_3                         0.235253\n",
              "PAY_4                         0.216614\n",
              "PAY_5                         0.204149\n",
              "PAY_6                         0.186866\n",
              "EDUCATION                     0.028006\n",
              "AGE                           0.013890\n",
              "BILL_AMT6                    -0.005372\n",
              "BILL_AMT5                    -0.006760\n",
              "BILL_AMT4                    -0.010156\n",
              "BILL_AMT3                    -0.014076\n",
              "BILL_AMT2                    -0.014193\n",
              "BILL_AMT1                    -0.019644\n",
              "MARRIAGE                     -0.024339\n",
              "SEX                          -0.039961\n",
              "PAY_AMT6                     -0.053183\n",
              "PAY_AMT5                     -0.055124\n",
              "PAY_AMT3                     -0.056250\n",
              "PAY_AMT4                     -0.056827\n",
              "PAY_AMT2                     -0.058579\n",
              "PAY_AMT1                     -0.072929\n",
              "LIMIT_BAL                    -0.153520\n",
              "Name: default payment next month, dtype: float64"
            ]
          },
          "metadata": {},
          "execution_count": 9
        }
      ]
    },
    {
      "cell_type": "code",
      "source": [
        "from pandas.plotting import scatter_matrix\n",
        "attributes = [TARGET, \"PAY_0\", \"PAY_2\", \"PAY_3\", \"LIMIT_BAL\"]\n",
        "_=scatter_matrix(df[attributes], figsize=(12,8))"
      ],
      "metadata": {
        "colab": {
          "base_uri": "https://localhost:8080/",
          "height": 561
        },
        "id": "SL4dUAuynU2v",
        "outputId": "7a29c35a-4a70-48d9-e197-35650a46f7bb"
      },
      "execution_count": 10,
      "outputs": [
        {
          "output_type": "display_data",
          "data": {
            "image/png": "[encoded data removed]",
            "text/plain": [
              "<Figure size 864x576 with 25 Axes>"
            ]
          },
          "metadata": {
            "needs_background": "light"
          }
        }
      ]
    },
    {
      "cell_type": "markdown",
      "source": [
        "**From the scatter_matrix figure, it is hard to tell if there is a strong linear relationship between the target and the attributes. So I'm not sure if correlation is a good metric to study the feature for classification problem.**"
      ],
      "metadata": {
        "id": "_M2X76xTohCs"
      }
    },
    {
      "cell_type": "markdown",
      "source": [
        "## 3, Preprocessing Data"
      ],
      "metadata": {
        "id": "brMvGBbKpwiz"
      }
    },
    {
      "cell_type": "markdown",
      "source": [
        "### Create pipeline"
      ],
      "metadata": {
        "id": "yMpKz6fqYg6S"
      }
    },
    {
      "cell_type": "markdown",
      "source": [
        "Create pipeline to preprocessing data. Use onehot for categorical attributes, do feature scaling for numerical attributes. To diff with demo, standardization is used instead of MinMax. "
      ],
      "metadata": {
        "id": "FzOgnoc_8PtV"
      }
    },
    {
      "cell_type": "code",
      "source": [
        "from sklearn.pipeline import Pipeline\n",
        "from sklearn.compose import ColumnTransformer\n",
        "from sklearn.preprocessing import StandardScaler, OneHotEncoder \n",
        "\n",
        "pipeline_categorical = Pipeline([\n",
        "  ('onehot', OneHotEncoder()),\n",
        "])\n",
        "\n",
        "pipeline_numerical = Pipeline([\n",
        "  ('scaler', StandardScaler()),\n",
        "])\n",
        "\n",
        "pipeline_pre = ColumnTransformer([\n",
        "  (\"categorical\", pipeline_categorical, columns_categorical),\n",
        "  (\"numerical\", pipeline_numerical, columns_numerical),\n",
        "])"
      ],
      "metadata": {
        "id": "X6Ay5QkQn0Bo"
      },
      "execution_count": 18,
      "outputs": []
    },
    {
      "cell_type": "code",
      "source": [
        "pipeline_numerical.fit_transform(X_train[columns_numerical]).shape"
      ],
      "metadata": {
        "colab": {
          "base_uri": "https://localhost:8080/"
        },
        "id": "D4UlFnDHU1Ke",
        "outputId": "ac9f893d-52fd-4000-dd64-285305c7823a"
      },
      "execution_count": 21,
      "outputs": [
        {
          "output_type": "execute_result",
          "data": {
            "text/plain": [
              "(24000, 14)"
            ]
          },
          "metadata": {},
          "execution_count": 21
        }
      ]
    },
    {
      "cell_type": "code",
      "source": [
        "pipeline_categorical.fit_transform(X_train[columns_categorical]).toarray().shape"
      ],
      "metadata": {
        "colab": {
          "base_uri": "https://localhost:8080/"
        },
        "id": "RUgN9PgwVSZq",
        "outputId": "66ebe8c9-6eb4-4acb-8f7f-78687c18b041"
      },
      "execution_count": 31,
      "outputs": [
        {
          "output_type": "execute_result",
          "data": {
            "text/plain": [
              "(24000, 77)"
            ]
          },
          "metadata": {},
          "execution_count": 31
        }
      ]
    },
    {
      "cell_type": "code",
      "source": [
        "X_train.info()"
      ],
      "metadata": {
        "colab": {
          "base_uri": "https://localhost:8080/"
        },
        "id": "GoCBlGXPVjlE",
        "outputId": "acd0ebfb-5a52-40ae-abfb-7bb69016915c"
      },
      "execution_count": 32,
      "outputs": [
        {
          "output_type": "stream",
          "name": "stdout",
          "text": [
            "<class 'pandas.core.frame.DataFrame'>\n",
            "Int64Index: 24000 entries, 23834 to 13417\n",
            "Data columns (total 23 columns):\n",
            " #   Column     Non-Null Count  Dtype\n",
            "---  ------     --------------  -----\n",
            " 0   LIMIT_BAL  24000 non-null  int64\n",
            " 1   SEX        24000 non-null  int64\n",
            " 2   EDUCATION  24000 non-null  int64\n",
            " 3   MARRIAGE   24000 non-null  int64\n",
            " 4   AGE        24000 non-null  int64\n",
            " 5   PAY_0      24000 non-null  int64\n",
            " 6   PAY_2      24000 non-null  int64\n",
            " 7   PAY_3      24000 non-null  int64\n",
            " 8   PAY_4      24000 non-null  int64\n",
            " 9   PAY_5      24000 non-null  int64\n",
            " 10  PAY_6      24000 non-null  int64\n",
            " 11  BILL_AMT1  24000 non-null  int64\n",
            " 12  BILL_AMT2  24000 non-null  int64\n",
            " 13  BILL_AMT3  24000 non-null  int64\n",
            " 14  BILL_AMT4  24000 non-null  int64\n",
            " 15  BILL_AMT5  24000 non-null  int64\n",
            " 16  BILL_AMT6  24000 non-null  int64\n",
            " 17  PAY_AMT1   24000 non-null  int64\n",
            " 18  PAY_AMT2   24000 non-null  int64\n",
            " 19  PAY_AMT3   24000 non-null  int64\n",
            " 20  PAY_AMT4   24000 non-null  int64\n",
            " 21  PAY_AMT5   24000 non-null  int64\n",
            " 22  PAY_AMT6   24000 non-null  int64\n",
            "dtypes: int64(23)\n",
            "memory usage: 4.4 MB\n"
          ]
        }
      ]
    },
    {
      "cell_type": "markdown",
      "source": [
        "### Apply pipeline"
      ],
      "metadata": {
        "id": "7RH9w2paYmkC"
      }
    },
    {
      "cell_type": "markdown",
      "source": [
        "Appy fit to train dataset then transformer to train and test to avoid information leak of test data."
      ],
      "metadata": {
        "id": "obPvTwOWYFwL"
      }
    },
    {
      "cell_type": "code",
      "source": [
        "pipeline_pre.fit(X_train)\n",
        "X_train_transformed = pipeline_pre.transform(X_train)\n",
        "X_test_transformed = pipeline_pre.transform(X_test)"
      ],
      "metadata": {
        "id": "k3FWDhMYYETq"
      },
      "execution_count": 37,
      "outputs": []
    },
    {
      "cell_type": "code",
      "source": [
        "X_train_transformed.shape"
      ],
      "metadata": {
        "colab": {
          "base_uri": "https://localhost:8080/"
        },
        "id": "s5ZOJjIQYWY2",
        "outputId": "521211c2-9354-4238-8bee-301cddeee07d"
      },
      "execution_count": 39,
      "outputs": [
        {
          "output_type": "execute_result",
          "data": {
            "text/plain": [
              "(24000, 91)"
            ]
          },
          "metadata": {},
          "execution_count": 39
        }
      ]
    },
    {
      "cell_type": "markdown",
      "source": [
        "## 4, Select and Train Promising Models"
      ],
      "metadata": {
        "id": "U-cjFOr-XiCt"
      }
    },
    {
      "cell_type": "markdown",
      "source": [
        "### Logistic Regression "
      ],
      "metadata": {
        "id": "UhyXzKYQXuOT"
      }
    },
    {
      "cell_type": "code",
      "source": [
        "from sklearn.linear_model import LogisticRegression\n",
        "\n",
        "logis_reg = LogisticRegression(n_jobs=-1, random_state=123)\n",
        "logis_reg.fit(X_train_transformed, y_train)"
      ],
      "metadata": {
        "colab": {
          "base_uri": "https://localhost:8080/"
        },
        "id": "ux0o_eZMX4aG",
        "outputId": "f8f51dac-40e0-447f-ddda-fbb0c30d6ed9"
      },
      "execution_count": 40,
      "outputs": [
        {
          "output_type": "execute_result",
          "data": {
            "text/plain": [
              "LogisticRegression(n_jobs=-1, random_state=123)"
            ]
          },
          "metadata": {},
          "execution_count": 40
        }
      ]
    },
    {
      "cell_type": "code",
      "source": [
        "from sklearn.metrics import accuracy_score, precision_score, recall_score, f1_score, roc_auc_score\n",
        "\n",
        "y_train_pred_lr = logis_reg.predict(X_train_transformed)\n",
        "y_train_pred_proba_lr = logis_reg.predict_proba(X_train_transformed)\n",
        "\n",
        "print(f\"accuracy_score: {accuracy_score(y_train, y_train_pred_lr)}\")\n",
        "print(f\"precision_score: {precision_score(y_train, y_train_pred_lr)}\")\n",
        "print(f\"recall_score: {recall_score(y_train, y_train_pred_lr)}\")\n",
        "print(f\"f1_score: {f1_score(y_train, y_train_pred_lr)}\")\n",
        "print(f\"roc_auc_score: {roc_auc_score(y_train, y_train_pred_proba_lr[:,1])}\")"
      ],
      "metadata": {
        "colab": {
          "base_uri": "https://localhost:8080/"
        },
        "id": "-ffxXm81Vnc8",
        "outputId": "422f332f-ee2a-4ce6-a629-833aae833ef9"
      },
      "execution_count": 43,
      "outputs": [
        {
          "output_type": "stream",
          "name": "stdout",
          "text": [
            "accuracy_score: 0.8214583333333333\n",
            "precision_score: 0.6840402588066139\n",
            "recall_score: 0.35844791862874364\n",
            "f1_score: 0.47039920899765164\n",
            "roc_auc_score: 0.7719093608691092\n"
          ]
        }
      ]
    },
    {
      "cell_type": "code",
      "source": [
        "from sklearn.model_selection import cross_val_score\n",
        "\n",
        "cv_score_mean_lg = cross_val_score(logis_reg, X_train_transformed, y_train, cv=4, scoring=\"roc_auc\").mean()\n",
        "print(f\"roc_auc_score_cross_validation_mean: {cv_score_mean_lg}\")"
      ],
      "metadata": {
        "colab": {
          "base_uri": "https://localhost:8080/"
        },
        "id": "AYCR78rMna6g",
        "outputId": "5fe58090-5dfb-41d4-f4fc-228eef89d7de"
      },
      "execution_count": 60,
      "outputs": [
        {
          "output_type": "stream",
          "name": "stdout",
          "text": [
            "roc_auc_score_cross_validation_mean: 0.7674763920711329\n"
          ]
        }
      ]
    },
    {
      "cell_type": "markdown",
      "source": [
        "### SGD"
      ],
      "metadata": {
        "id": "OKYJG-gap-VN"
      }
    },
    {
      "cell_type": "code",
      "source": [
        "from sklearn.linear_model import SGDClassifier\n",
        "\n",
        "sgd_clf = SGDClassifier(max_iter=5, tol=-np.infty, random_state=123)\n",
        "sgd_clf.fit(X_train_transformed, y_train)"
      ],
      "metadata": {
        "colab": {
          "base_uri": "https://localhost:8080/"
        },
        "id": "WjLKT7NUpGgs",
        "outputId": "f6c7665c-b31c-45f7-ec8b-e1702053711b"
      },
      "execution_count": 52,
      "outputs": [
        {
          "output_type": "execute_result",
          "data": {
            "text/plain": [
              "SGDClassifier(max_iter=5, random_state=123, tol=-inf)"
            ]
          },
          "metadata": {},
          "execution_count": 52
        }
      ]
    },
    {
      "cell_type": "code",
      "source": [
        "y_train_pred_sgd = sgd_clf.predict(X_train_transformed)\n",
        "# y_trai_pred_proba_sgd = sgd_clf.predict_proba(X_train_transformed)\n",
        "\n",
        "print(f\"accuracy_score: {accuracy_score(y_train, y_train_pred_sgd)}\")\n",
        "print(f\"precision_score: {precision_score(y_train, y_train_pred_sgd)}\")\n",
        "print(f\"recall_score: {recall_score(y_train, y_train_pred_sgd)}\")\n",
        "print(f\"f1_score: {f1_score(y_train, y_train_pred_sgd)}\")\n",
        "print(f\"roc_auc_score: {roc_auc_score(y_train, y_train_pred_sgd)}\")"
      ],
      "metadata": {
        "colab": {
          "base_uri": "https://localhost:8080/"
        },
        "id": "8Qf9it0wpq_b",
        "outputId": "abf16d4e-d732-48ef-9838-4f7d958c79b5"
      },
      "execution_count": 55,
      "outputs": [
        {
          "output_type": "stream",
          "name": "stdout",
          "text": [
            "accuracy_score: 0.758875\n",
            "precision_score: 0.45359223300970875\n",
            "recall_score: 0.44000753437558865\n",
            "f1_score: 0.44669662491634005\n",
            "roc_auc_score: 0.6447268959663509\n"
          ]
        }
      ]
    },
    {
      "cell_type": "code",
      "source": [
        "cv_score_mean_sgd = cross_val_score(sgd_clf, X_train_transformed, y_train, cv=4, scoring=\"roc_auc\").mean()\n",
        "print(f\"roc_auc_score_cross_validation_mean: {cv_score_mean_sgd}\")"
      ],
      "metadata": {
        "colab": {
          "base_uri": "https://localhost:8080/"
        },
        "id": "yQbSa-xvqP15",
        "outputId": "abef1d34-5604-4ccb-deef-9749493b4d87"
      },
      "execution_count": 61,
      "outputs": [
        {
          "output_type": "stream",
          "name": "stdout",
          "text": [
            "roc_auc_score_cross_validation_mean: 0.692399954107537\n"
          ]
        }
      ]
    },
    {
      "cell_type": "markdown",
      "source": [
        "### Random Forest\n",
        "\n"
      ],
      "metadata": {
        "id": "TRL_53vBrYb0"
      }
    },
    {
      "cell_type": "code",
      "source": [
        "from sklearn.ensemble import RandomForestClassifier\n",
        "\n",
        "rf_clf = RandomForestClassifier(n_estimators=10, random_state=123)\n",
        "rf_clf.fit(X_train_transformed, y_train)"
      ],
      "metadata": {
        "colab": {
          "base_uri": "https://localhost:8080/"
        },
        "id": "AjWgPCLxqpxI",
        "outputId": "ee173ab1-05ee-4216-a298-a721182853fb"
      },
      "execution_count": 70,
      "outputs": [
        {
          "output_type": "execute_result",
          "data": {
            "text/plain": [
              "RandomForestClassifier(n_estimators=10, random_state=123)"
            ]
          },
          "metadata": {},
          "execution_count": 70
        }
      ]
    },
    {
      "cell_type": "code",
      "source": [
        "y_train_pred_rf = rf_clf.predict(X_train_transformed)\n",
        "y_train_pred_proba_rf= rf_clf.predict_proba(X_train_transformed)\n",
        "\n",
        "print(f\"accuracy_score: {accuracy_score(y_train, y_train_pred_rf)}\")\n",
        "print(f\"precision_score: {precision_score(y_train, y_train_pred_rf)}\")\n",
        "print(f\"recall_score: {recall_score(y_train, y_train_pred_rf)}\")\n",
        "print(f\"f1_score: {f1_score(y_train, y_train_pred_rf)}\")\n",
        "print(f\"roc_auc_score: {roc_auc_score(y_train, y_train_pred_proba_rf[:,1])}\")"
      ],
      "metadata": {
        "colab": {
          "base_uri": "https://localhost:8080/"
        },
        "id": "0S8kF2Rir_i6",
        "outputId": "9ede0555-5f15-4115-a3eb-f70b3f2d2644"
      },
      "execution_count": 71,
      "outputs": [
        {
          "output_type": "stream",
          "name": "stdout",
          "text": [
            "accuracy_score: 0.9806666666666667\n",
            "precision_score: 0.9938837920489296\n",
            "recall_score: 0.9182520248634395\n",
            "f1_score: 0.9545721558644998\n",
            "roc_auc_score: 0.9992079251344035\n"
          ]
        }
      ]
    },
    {
      "cell_type": "code",
      "source": [
        "cv_score_mean_rf = cross_val_score(rf_clf, X_train_transformed, y_train, cv=4, scoring=\"roc_auc\").mean()\n",
        "print(f\"roc_auc_score_cross_validation_mean: {cv_score_mean_rf}\")"
      ],
      "metadata": {
        "colab": {
          "base_uri": "https://localhost:8080/"
        },
        "id": "rUYa-9-ssGo_",
        "outputId": "0c33a701-9563-4e8a-ccc4-8f0d4eb7a9c2"
      },
      "execution_count": 80,
      "outputs": [
        {
          "output_type": "stream",
          "name": "stdout",
          "text": [
            "roc_auc_score_cross_validation_mean: 0.7281493298940624\n"
          ]
        }
      ]
    },
    {
      "cell_type": "code",
      "source": [
        "cross_val_score(rf_clf, X_train_transformed, y_train, cv=4, scoring=\"roc_auc\")"
      ],
      "metadata": {
        "colab": {
          "base_uri": "https://localhost:8080/"
        },
        "id": "351C3jn-sTHT",
        "outputId": "76979308-2c68-4e7d-cb66-cfff4dd789b1"
      },
      "execution_count": 69,
      "outputs": [
        {
          "output_type": "execute_result",
          "data": {
            "text/plain": [
              "array([0.72965243, 0.73407916, 0.71023288, 0.73863285])"
            ]
          },
          "metadata": {},
          "execution_count": 69
        }
      ]
    },
    {
      "cell_type": "markdown",
      "source": [
        "It looks like, the RandomForest is overfitting."
      ],
      "metadata": {
        "id": "WT9KxyWqtIDY"
      }
    },
    {
      "cell_type": "markdown",
      "source": [
        "### KNN Classifier"
      ],
      "metadata": {
        "id": "2FPm0S8mufDW"
      }
    },
    {
      "cell_type": "code",
      "source": [
        "from sklearn.neighbors import KNeighborsClassifier\n",
        "\n",
        "knn_clf = KNeighborsClassifier(n_neighbors=10)\n",
        "knn_clf.fit(X_train_transformed, y_train)"
      ],
      "metadata": {
        "colab": {
          "base_uri": "https://localhost:8080/"
        },
        "id": "QDU3oGcfsaUj",
        "outputId": "b62141d0-0251-448a-cad2-e42abc917c43"
      },
      "execution_count": 76,
      "outputs": [
        {
          "output_type": "execute_result",
          "data": {
            "text/plain": [
              "KNeighborsClassifier(n_neighbors=10)"
            ]
          },
          "metadata": {},
          "execution_count": 76
        }
      ]
    },
    {
      "cell_type": "code",
      "source": [
        "y_train_pred_knn = knn_clf.predict(X_train_transformed)\n",
        "y_train_pred_proba_knn= knn_clf.predict_proba(X_train_transformed)\n",
        "\n",
        "print(f\"accuracy_score: {accuracy_score(y_train, y_train_pred_knn)}\")\n",
        "print(f\"precision_score: {precision_score(y_train, y_train_pred_knn)}\")\n",
        "print(f\"recall_score: {recall_score(y_train, y_train_pred_knn)}\")\n",
        "print(f\"f1_score: {f1_score(y_train, y_train_pred_knn)}\")\n",
        "print(f\"roc_auc_score: {roc_auc_score(y_train, y_train_pred_proba_knn[:,1])}\")"
      ],
      "metadata": {
        "colab": {
          "base_uri": "https://localhost:8080/"
        },
        "id": "sMUpG5wqu5Td",
        "outputId": "bdb0a740-16aa-4150-8ed0-05ef33bba4e7"
      },
      "execution_count": 77,
      "outputs": [
        {
          "output_type": "stream",
          "name": "stdout",
          "text": [
            "accuracy_score: 0.8258333333333333\n",
            "precision_score: 0.7496682883679787\n",
            "recall_score: 0.3192691655679036\n",
            "f1_score: 0.44782034346103045\n",
            "roc_auc_score: 0.8380902149670305\n"
          ]
        }
      ]
    },
    {
      "cell_type": "code",
      "source": [
        "%%time\n",
        "cv_score_mean_knn = cross_val_score(knn_clf, X_train_transformed, y_train, cv=4, scoring=\"roc_auc\").mean()\n",
        "print(f\"roc_auc_score_cross_validation_mean: {cv_score_mean_knn}\")"
      ],
      "metadata": {
        "colab": {
          "base_uri": "https://localhost:8080/"
        },
        "id": "sEwyCkbQvKN7",
        "outputId": "881c5434-12c5-4cd1-c6d6-6cd2791fe154"
      },
      "execution_count": 83,
      "outputs": [
        {
          "output_type": "stream",
          "name": "stdout",
          "text": [
            "roc_auc_score_cross_validation_mean: 0.7184352630041347\n",
            "CPU times: user 42.4 s, sys: 1.71 s, total: 44.2 s\n",
            "Wall time: 45.1 s\n"
          ]
        }
      ]
    },
    {
      "cell_type": "code",
      "source": [
        "cross_val_score(knn_clf, X_train_transformed, y_train, cv=4, scoring=\"roc_auc\")"
      ],
      "metadata": {
        "colab": {
          "base_uri": "https://localhost:8080/"
        },
        "id": "n3_uvCJVvujF",
        "outputId": "241853ac-5196-4cf9-9d5b-ea448a78b660"
      },
      "execution_count": 81,
      "outputs": [
        {
          "output_type": "execute_result",
          "data": {
            "text/plain": [
              "array([0.72990254, 0.71242387, 0.70414982, 0.72726482])"
            ]
          },
          "metadata": {},
          "execution_count": 81
        }
      ]
    },
    {
      "cell_type": "markdown",
      "source": [
        "### Comparison by roc_auc score"
      ],
      "metadata": {
        "id": "3R-xmfFowomI"
      }
    },
    {
      "cell_type": "code",
      "source": [
        "dat_dtype = {\n",
        "    'names' : ('LogisticRegression', 'SGD', 'RandomForest','KNN'),\n",
        "    'formats' : ('d', 'd', 'd','d')}\n",
        "dat = np.zeros(1, dat_dtype)\n",
        "dat['LogisticRegression'] = cv_score_mean_lg\n",
        "dat['SGD'] = cv_score_mean_sgd\n",
        "dat['RandomForest'] = cv_score_mean_rf\n",
        "dat['KNN'] = cv_score_mean_knn\n",
        "\n",
        "print(dat)"
      ],
      "metadata": {
        "colab": {
          "base_uri": "https://localhost:8080/"
        },
        "id": "yFzPcpwWv0XZ",
        "outputId": "bc4896d4-9d78-4173-a706-da4e1090cee1"
      },
      "execution_count": 84,
      "outputs": [
        {
          "output_type": "stream",
          "name": "stdout",
          "text": [
            "[(0.76747639, 0.69239995, 0.72814933, 0.71843526)]\n"
          ]
        }
      ]
    },
    {
      "cell_type": "code",
      "source": [
        "from prettytable import PrettyTable\n",
        "\n",
        "table = PrettyTable()\n",
        "table.field_names = [\"ML\",\"Mean of roc_auc from CV 4 fold\"]\n",
        "table.add_row([\"LogisticRegression\", cv_score_mean_lg])\n",
        "table.add_row(['SGD', cv_score_mean_sgd])\n",
        "table.add_row(['RandomForest', cv_score_mean_rf])\n",
        "table.add_row(['KNN', cv_score_mean_knn])\n",
        "print(table)"
      ],
      "metadata": {
        "colab": {
          "base_uri": "https://localhost:8080/"
        },
        "id": "afbbaipRyMfo",
        "outputId": "15189c2a-b2d4-43c5-ab11-637472e13a83"
      },
      "execution_count": 101,
      "outputs": [
        {
          "output_type": "stream",
          "name": "stdout",
          "text": [
            "+--------------------+--------------------------------+\n",
            "|         ML         | Mean of roc_auc from CV 4 fold |\n",
            "+--------------------+--------------------------------+\n",
            "| LogisticRegression |       0.7674763920711329       |\n",
            "|        SGD         |       0.692399954107537        |\n",
            "|    RandomForest    |       0.7281493298940624       |\n",
            "|        KNN         |       0.7184352630041347       |\n",
            "+--------------------+--------------------------------+\n"
          ]
        }
      ]
    },
    {
      "cell_type": "markdown",
      "source": [
        "## 5, Fine-Tune"
      ],
      "metadata": {
        "id": "Qc0MchNB1gV-"
      }
    },
    {
      "cell_type": "markdown",
      "source": [
        "### Grid Search"
      ],
      "metadata": {
        "id": "8HI_9zKS2HoG"
      }
    },
    {
      "cell_type": "markdown",
      "source": [
        "#### RandomForest"
      ],
      "metadata": {
        "id": "HRuHaq9o2LBI"
      }
    },
    {
      "cell_type": "code",
      "source": [
        "from sklearn.model_selection import GridSearchCV\n",
        "\n",
        "param_grid_rf = [\n",
        "      {'n_estimators':[3, 4, 6, 7, 10, 20, 50, 100]},\n",
        "]\n",
        "rf_clf = RandomForestClassifier(random_state=123)\n",
        "grid_search_rf = GridSearchCV(rf_clf, param_grid_rf, cv=4,\n",
        "                           scoring='roc_auc', return_train_score=True)\n"
      ],
      "metadata": {
        "id": "9giBbLvj0lo4"
      },
      "execution_count": 125,
      "outputs": []
    },
    {
      "cell_type": "code",
      "source": [
        "%%time\n",
        "grid_search_rf.fit(X_train_transformed, y_train)"
      ],
      "metadata": {
        "colab": {
          "base_uri": "https://localhost:8080/"
        },
        "id": "m9_SNv0r2v95",
        "outputId": "dae3017a-34db-4ce5-ce11-d05fd25b5417"
      },
      "execution_count": 126,
      "outputs": [
        {
          "output_type": "stream",
          "name": "stdout",
          "text": [
            "CPU times: user 3min 14s, sys: 27.6 s, total: 3min 42s\n",
            "Wall time: 3min 41s\n"
          ]
        },
        {
          "output_type": "execute_result",
          "data": {
            "text/plain": [
              "GridSearchCV(cv=4, estimator=RandomForestClassifier(random_state=123),\n",
              "             param_grid=[{'n_estimators': [3, 4, 6, 7, 10, 20, 50, 100]}],\n",
              "             return_train_score=True, scoring='roc_auc')"
            ]
          },
          "metadata": {},
          "execution_count": 126
        }
      ]
    },
    {
      "cell_type": "code",
      "source": [
        "grid_search_rf.best_params_"
      ],
      "metadata": {
        "colab": {
          "base_uri": "https://localhost:8080/"
        },
        "id": "84UZ0LN-3WLy",
        "outputId": "c31bbdb1-9c19-4f77-f6e7-c855490f0836"
      },
      "execution_count": 108,
      "outputs": [
        {
          "output_type": "execute_result",
          "data": {
            "text/plain": [
              "{'n_estimators': 100}"
            ]
          },
          "metadata": {},
          "execution_count": 108
        }
      ]
    },
    {
      "cell_type": "code",
      "source": [
        "grid_search_rf.best_estimator_"
      ],
      "metadata": {
        "colab": {
          "base_uri": "https://localhost:8080/"
        },
        "id": "BKRkakr-4NV_",
        "outputId": "f09e358e-4ef9-483d-ecb9-cd14fde44c37"
      },
      "execution_count": 127,
      "outputs": [
        {
          "output_type": "execute_result",
          "data": {
            "text/plain": [
              "RandomForestClassifier(random_state=123)"
            ]
          },
          "metadata": {},
          "execution_count": 127
        }
      ]
    },
    {
      "cell_type": "code",
      "source": [
        "grid_search_rf.best_estimator_.get_params()"
      ],
      "metadata": {
        "colab": {
          "base_uri": "https://localhost:8080/"
        },
        "id": "sqrT79aYIuHM",
        "outputId": "8e7d0d7e-ad35-4e0b-b7f8-a3aa8647fbae"
      },
      "execution_count": 128,
      "outputs": [
        {
          "output_type": "execute_result",
          "data": {
            "text/plain": [
              "{'bootstrap': True,\n",
              " 'ccp_alpha': 0.0,\n",
              " 'class_weight': None,\n",
              " 'criterion': 'gini',\n",
              " 'max_depth': None,\n",
              " 'max_features': 'auto',\n",
              " 'max_leaf_nodes': None,\n",
              " 'max_samples': None,\n",
              " 'min_impurity_decrease': 0.0,\n",
              " 'min_samples_leaf': 1,\n",
              " 'min_samples_split': 2,\n",
              " 'min_weight_fraction_leaf': 0.0,\n",
              " 'n_estimators': 100,\n",
              " 'n_jobs': None,\n",
              " 'oob_score': False,\n",
              " 'random_state': 123,\n",
              " 'verbose': 0,\n",
              " 'warm_start': False}"
            ]
          },
          "metadata": {},
          "execution_count": 128
        }
      ]
    },
    {
      "cell_type": "code",
      "source": [
        "cvres = grid_search_rf.cv_results_\n",
        "for mean_score, params in zip(cvres[\"mean_test_score\"], cvres[\"params\"]):\n",
        "    print(mean_score, params)"
      ],
      "metadata": {
        "colab": {
          "base_uri": "https://localhost:8080/"
        },
        "id": "vuH9WHQZ4P1E",
        "outputId": "52747011-bc5c-4e1f-dc23-99cd2b90da8d"
      },
      "execution_count": 111,
      "outputs": [
        {
          "output_type": "stream",
          "name": "stdout",
          "text": [
            "0.6731691018998589 {'n_estimators': 3}\n",
            "0.6926237504916737 {'n_estimators': 4}\n",
            "0.7095450354353239 {'n_estimators': 6}\n",
            "0.7156158434403523 {'n_estimators': 7}\n",
            "0.7281493298940624 {'n_estimators': 10}\n",
            "0.7482372006151663 {'n_estimators': 20}\n",
            "0.7614701034898237 {'n_estimators': 50}\n",
            "0.766593759783923 {'n_estimators': 100}\n"
          ]
        }
      ]
    },
    {
      "cell_type": "code",
      "source": [
        "feature_importance = grid_search_rf.best_estimator_.feature_importances_"
      ],
      "metadata": {
        "id": "YVsE29u1I-IT"
      },
      "execution_count": 129,
      "outputs": []
    },
    {
      "cell_type": "code",
      "source": [
        "feature_importance"
      ],
      "metadata": {
        "colab": {
          "base_uri": "https://localhost:8080/"
        },
        "id": "kwizF7Q9JAC2",
        "outputId": "26dedb88-4c11-4e21-d223-43a999b852d5"
      },
      "execution_count": 130,
      "outputs": [
        {
          "output_type": "execute_result",
          "data": {
            "text/plain": [
              "array([9.15925197e-03, 8.92898619e-03, 1.73669039e-05, 8.51154832e-03,\n",
              "       9.75657886e-03, 7.69002566e-03, 4.53135471e-04, 8.16034149e-04,\n",
              "       4.76622751e-04, 3.02205425e-04, 9.42700879e-03, 9.28709419e-03,\n",
              "       1.95330074e-03, 2.34686142e-03, 5.96410834e-03, 1.49701353e-02,\n",
              "       7.36449204e-03, 5.13103649e-02, 3.96793955e-03, 6.07410631e-04,\n",
              "       1.24347315e-04, 7.37251218e-05, 3.71709268e-05, 1.07667439e-04,\n",
              "       1.74125295e-03, 4.01929439e-03, 5.68862393e-03, 1.85067080e-04,\n",
              "       2.80105154e-02, 2.57207460e-03, 3.83927184e-04, 1.55856717e-04,\n",
              "       5.84589576e-05, 6.53192854e-05, 1.08601526e-05, 1.65729519e-03,\n",
              "       4.04995680e-03, 4.83120658e-03, 5.26001728e-06, 1.89069320e-02,\n",
              "       1.05624864e-03, 4.13302851e-04, 1.05109817e-04, 9.41212129e-05,\n",
              "       1.23285423e-04, 1.14307600e-05, 2.81184648e-03, 3.47200744e-03,\n",
              "       4.97140287e-03, 2.50935382e-08, 1.77255358e-02, 8.97326951e-04,\n",
              "       4.95887636e-04, 2.00381308e-04, 1.98681741e-05, 3.68708386e-04,\n",
              "       5.30579084e-06, 1.97258239e-03, 3.71840375e-03, 4.57061962e-03,\n",
              "       1.23995452e-02, 1.10235277e-03, 3.55807207e-04, 9.93609378e-05,\n",
              "       1.88177054e-05, 4.63387589e-04, 5.53940280e-07, 2.67088104e-03,\n",
              "       4.22713626e-03, 5.49359569e-03, 9.47423081e-03, 1.45724404e-03,\n",
              "       2.07598598e-04, 4.33547082e-05, 9.31079262e-05, 2.52164342e-04,\n",
              "       4.63482372e-07, 6.04097857e-02, 6.33741999e-02, 5.65334011e-02,\n",
              "       5.33680372e-02, 5.03671208e-02, 4.83580855e-02, 4.77690705e-02,\n",
              "       4.80144966e-02, 4.91159894e-02, 4.64563907e-02, 4.25242941e-02,\n",
              "       4.11077539e-02, 4.15371196e-02, 4.36759688e-02])"
            ]
          },
          "metadata": {},
          "execution_count": 130
        }
      ]
    },
    {
      "cell_type": "markdown",
      "source": [
        "#### KNN Classifier"
      ],
      "metadata": {
        "id": "Tm5dEPOI4g1Y"
      }
    },
    {
      "cell_type": "code",
      "source": [
        "param_grid_knn = [\n",
        "      {'n_neighbors':[3, 4, 5, 7, 10, 20, 50]},\n",
        "]\n",
        "knn_clf = KNeighborsClassifier()\n",
        "grid_search_knn = GridSearchCV(knn_clf, param_grid_knn, cv=4,\n",
        "                           scoring='roc_auc', return_train_score=True)"
      ],
      "metadata": {
        "id": "9x0dV7Ya4Zs3"
      },
      "execution_count": 112,
      "outputs": []
    },
    {
      "cell_type": "code",
      "source": [
        "%%time\n",
        "grid_search_knn.fit(X_train_transformed, y_train)"
      ],
      "metadata": {
        "colab": {
          "base_uri": "https://localhost:8080/"
        },
        "id": "e_khRS9N45uC",
        "outputId": "7d0bad4b-85c1-4bb9-f6e7-f266a9fcda19"
      },
      "execution_count": 113,
      "outputs": [
        {
          "output_type": "stream",
          "name": "stdout",
          "text": [
            "CPU times: user 17min 13s, sys: 19.6 s, total: 17min 33s\n",
            "Wall time: 17min 29s\n"
          ]
        },
        {
          "output_type": "execute_result",
          "data": {
            "text/plain": [
              "GridSearchCV(cv=4, estimator=KNeighborsClassifier(),\n",
              "             param_grid=[{'n_neighbors': [3, 4, 5, 7, 10, 20, 50]}],\n",
              "             return_train_score=True, scoring='roc_auc')"
            ]
          },
          "metadata": {},
          "execution_count": 113
        }
      ]
    },
    {
      "cell_type": "code",
      "source": [
        "grid_search_knn.best_params_"
      ],
      "metadata": {
        "colab": {
          "base_uri": "https://localhost:8080/"
        },
        "id": "RbCX9h_Q5XDN",
        "outputId": "68f362ea-e277-4a3c-f176-4666c074b20c"
      },
      "execution_count": 115,
      "outputs": [
        {
          "output_type": "execute_result",
          "data": {
            "text/plain": [
              "{'n_neighbors': 50}"
            ]
          },
          "metadata": {},
          "execution_count": 115
        }
      ]
    },
    {
      "cell_type": "code",
      "source": [
        "grid_search_knn.best_estimator_"
      ],
      "metadata": {
        "colab": {
          "base_uri": "https://localhost:8080/"
        },
        "id": "nvSNKcsmEsLu",
        "outputId": "d9b5a968-0cbe-415e-eb00-bfd745da2891"
      },
      "execution_count": 119,
      "outputs": [
        {
          "output_type": "execute_result",
          "data": {
            "text/plain": [
              "KNeighborsClassifier(n_neighbors=50)"
            ]
          },
          "metadata": {},
          "execution_count": 119
        }
      ]
    },
    {
      "cell_type": "code",
      "source": [
        "cvres_knn = grid_search_knn.cv_results_\n",
        "for mean_score, params in zip(cvres_knn[\"mean_test_score\"], cvres_knn[\"params\"]):\n",
        "    print(mean_score, params)"
      ],
      "metadata": {
        "colab": {
          "base_uri": "https://localhost:8080/"
        },
        "id": "iU0ZuxCX9bdM",
        "outputId": "d4991d30-a295-4391-e284-b187a8051f61"
      },
      "execution_count": 116,
      "outputs": [
        {
          "output_type": "stream",
          "name": "stdout",
          "text": [
            "0.668848083602383 {'n_neighbors': 3}\n",
            "0.6843736518177395 {'n_neighbors': 4}\n",
            "0.694457967356331 {'n_neighbors': 5}\n",
            "0.707211572516645 {'n_neighbors': 7}\n",
            "0.7184352630041347 {'n_neighbors': 10}\n",
            "0.7361226329641329 {'n_neighbors': 20}\n",
            "0.7452228629377593 {'n_neighbors': 50}\n"
          ]
        }
      ]
    },
    {
      "cell_type": "markdown",
      "source": [
        "#### Conclusion"
      ],
      "metadata": {
        "id": "Oc2jY2dRBjKF"
      }
    },
    {
      "cell_type": "markdown",
      "source": [
        "After grid search of RandomForest and KNN, RandomForest with 100 n_estimators prerforms better in sense of ROC_AUC scores from 4 fold cross-validation."
      ],
      "metadata": {
        "id": "Ccs7d6IvBpMc"
      }
    },
    {
      "cell_type": "markdown",
      "source": [
        "### Performanc on Test set"
      ],
      "metadata": {
        "id": "gGYNyYPBCD_F"
      }
    },
    {
      "cell_type": "code",
      "source": [
        "final_model = grid_search_rf.best_estimator_"
      ],
      "metadata": {
        "id": "S_64zlde9umu"
      },
      "execution_count": 131,
      "outputs": []
    },
    {
      "cell_type": "code",
      "source": [
        "final_model.get_params()"
      ],
      "metadata": {
        "colab": {
          "base_uri": "https://localhost:8080/"
        },
        "id": "Pilt8vBNEVo4",
        "outputId": "75cf89a9-23b7-48da-c8d5-cd64810370b0"
      },
      "execution_count": 132,
      "outputs": [
        {
          "output_type": "execute_result",
          "data": {
            "text/plain": [
              "{'bootstrap': True,\n",
              " 'ccp_alpha': 0.0,\n",
              " 'class_weight': None,\n",
              " 'criterion': 'gini',\n",
              " 'max_depth': None,\n",
              " 'max_features': 'auto',\n",
              " 'max_leaf_nodes': None,\n",
              " 'max_samples': None,\n",
              " 'min_impurity_decrease': 0.0,\n",
              " 'min_samples_leaf': 1,\n",
              " 'min_samples_split': 2,\n",
              " 'min_weight_fraction_leaf': 0.0,\n",
              " 'n_estimators': 100,\n",
              " 'n_jobs': None,\n",
              " 'oob_score': False,\n",
              " 'random_state': 123,\n",
              " 'verbose': 0,\n",
              " 'warm_start': False}"
            ]
          },
          "metadata": {},
          "execution_count": 132
        }
      ]
    },
    {
      "cell_type": "code",
      "source": [
        "X_test_transformed = pipeline_pre.transform(X_test)\n",
        "final_predictions = final_model.predict(X_test_transformed)"
      ],
      "metadata": {
        "id": "omH389wsE7_5"
      },
      "execution_count": 133,
      "outputs": []
    },
    {
      "cell_type": "code",
      "source": [
        "print(f\"accuracy_score: {accuracy_score(y_test, final_predictions)}\")\n",
        "print(f\"precision_score: {precision_score(y_test, final_predictions)}\")\n",
        "print(f\"recall_score: {recall_score(y_test, final_predictions)}\")\n",
        "print(f\"f1_score: {f1_score(y_test, final_predictions)}\")\n",
        "print(f\"roc_auc_score: {roc_auc_score(y_test, final_predictions)}\")"
      ],
      "metadata": {
        "colab": {
          "base_uri": "https://localhost:8080/"
        },
        "id": "YGR4qQJXGnzb",
        "outputId": "8b3bd591-ab0f-4a13-9c17-821153877e2c"
      },
      "execution_count": 134,
      "outputs": [
        {
          "output_type": "stream",
          "name": "stdout",
          "text": [
            "accuracy_score: 0.8166666666666667\n",
            "precision_score: 0.6531713900134952\n",
            "recall_score: 0.36473247927656366\n",
            "f1_score: 0.46808510638297873\n",
            "roc_auc_score: 0.6548678446029726\n"
          ]
        }
      ]
    },
    {
      "cell_type": "code",
      "source": [
        ""
      ],
      "metadata": {
        "id": "7n2zVsmNJXDq"
      },
      "execution_count": null,
      "outputs": []
    }
  ]
}